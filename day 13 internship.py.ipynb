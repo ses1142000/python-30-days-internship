{
 "cells": [
  {
   "cell_type": "code",
   "execution_count": null,
   "metadata": {},
   "outputs": [],
   "source": [
    "import json\n",
    "import mysql.connector\n",
    "\n",
    "name = input(\"enter your name\")\n",
    "age = int(input(\"enter your age\"))\n",
    "income = float(input(\"enter your income\"))\n",
    "age_limit = lambda age: True if (age > 18) else False\n",
    "is_married = input(\"enter marital status (Y/N)\")\n",
    "married_status =lambda status: True if(status == \"NO\")else False\n",
    "\n",
    "json_dic = {\"name\": name,\"age\": age,\"income\": income,\"age_limit\": age_limit(age),\"married\" : married_status(is_married)}\n",
    "with open(\"sample_json.json\", \"w\") as output:\n",
    "    output.write(json.dumps(json_dic))\n",
    "    \n",
    "with open(\"sample_json.json\") as  json_file:\n",
    "    json_data = json.load(json_file)\n",
    "    \n",
    "database = mysql.connector.connect(\n",
    "    host=\"localhost\",\n",
    "    user=\"root\",\n",
    "    password=\"\",\n",
    "    database=\"json_task\"\n",
    ")\n",
    "\n",
    "\n",
    "cursor = database.cursor()\n",
    "\n",
    "\n",
    "cursor.execute(\"CREATE TABLE json (name VARCHAR(255),age VARCHAR(25),income VARCHAR(25),\"\n",
    "               \"age_limit VARCHAR(25),marital_status VARCHAR(25)\")\n",
    "\n",
    "sql = \"INSERT INTO json (name, age,income,age_limit,marital_status) VALUES (%s, %s, %s, %s, %s)\"\n",
    "val = (\n",
    "    json_data['name'],\n",
    "    json_data['age'],\n",
    "    json_data['income'],\n",
    "    json_data['age_limit'],\n",
    "    json_data['married']\n",
    ")\n",
    "cursor.execute(sql, val)\n",
    "\n",
    "database.commit()\n",
    "\n",
    "print(cursor.rowcount, \"record inserted.\")\n"
   ]
  },
  {
   "cell_type": "code",
   "execution_count": null,
   "metadata": {},
   "outputs": [],
   "source": []
  },
  {
   "cell_type": "code",
   "execution_count": null,
   "metadata": {},
   "outputs": [],
   "source": []
  },
  {
   "cell_type": "code",
   "execution_count": null,
   "metadata": {},
   "outputs": [],
   "source": []
  },
  {
   "cell_type": "code",
   "execution_count": null,
   "metadata": {},
   "outputs": [],
   "source": []
  },
  {
   "cell_type": "code",
   "execution_count": null,
   "metadata": {},
   "outputs": [],
   "source": []
  },
  {
   "cell_type": "code",
   "execution_count": null,
   "metadata": {},
   "outputs": [],
   "source": []
  },
  {
   "cell_type": "code",
   "execution_count": null,
   "metadata": {},
   "outputs": [],
   "source": []
  },
  {
   "cell_type": "code",
   "execution_count": null,
   "metadata": {},
   "outputs": [],
   "source": []
  },
  {
   "cell_type": "code",
   "execution_count": null,
   "metadata": {},
   "outputs": [],
   "source": []
  }
 ],
 "metadata": {
  "kernelspec": {
   "display_name": "Python 3",
   "language": "python",
   "name": "python3"
  },
  "language_info": {
   "codemirror_mode": {
    "name": "ipython",
    "version": 3
   },
   "file_extension": ".py",
   "mimetype": "text/x-python",
   "name": "python",
   "nbconvert_exporter": "python",
   "pygments_lexer": "ipython3",
   "version": "3.9.0"
  }
 },
 "nbformat": 4,
 "nbformat_minor": 4
}
